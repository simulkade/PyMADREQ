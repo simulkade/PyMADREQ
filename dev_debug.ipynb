{
 "cells": [
  {
   "cell_type": "markdown",
   "metadata": {},
   "source": [
    "# PyMADREQ development story and ideas\n",
    "Here, I do things as I progress in the development of PyMADREQ. The current goal is to have a package that solves multicomponent single and two phase flow (advection-diffusion) with a sequential reactive solver. I will implement some of my old ideas for creating robust solvers for two phase flow data analysis (viz. core flooding tests)."
   ]
  },
  {
   "cell_type": "markdown",
   "metadata": {},
   "source": []
  }
 ],
 "metadata": {
  "language_info": {
   "name": "python"
  },
  "orig_nbformat": 4
 },
 "nbformat": 4,
 "nbformat_minor": 2
}
