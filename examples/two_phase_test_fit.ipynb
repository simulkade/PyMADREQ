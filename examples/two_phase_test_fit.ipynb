{
 "cells": [
  {
   "cell_type": "code",
   "execution_count": 24,
   "metadata": {},
   "outputs": [
    {
     "data": {
      "text/plain": [
       "<module 'pymadreq.IO' from 'c:\\\\Users\\\\aaeft\\\\Documents\\\\GitHub\\\\PyMADREQ\\\\examples\\\\..\\\\pymadreq\\\\IO.py'>"
      ]
     },
     "execution_count": 24,
     "metadata": {},
     "output_type": "execute_result"
    }
   ],
   "source": [
    "from importlib import reload\n",
    "from pyfvtool import *\n",
    "import matplotlib.pyplot as plt\n",
    "import numpy as np\n",
    "from scipy.optimize import root\n",
    "from tqdm import tqdm\n",
    "from scipy.interpolate import interp1d\n",
    "import pandas as pd\n",
    "from CoolProp.CoolProp import PropsSI\n",
    "\n",
    "import sys\n",
    "sys.path.append('..')\n",
    "from pymadreq import *\n",
    "import pymadreq.coreflood as cf\n",
    "import pymadreq.fractional_flow as ff\n",
    "import pymadreq.IO as IO\n",
    "\n",
    "reload(ff)\n",
    "reload(cf)\n",
    "reload(IO)"
   ]
  },
  {
   "cell_type": "markdown",
   "metadata": {},
   "source": [
    "## Reading input file and defining the domain"
   ]
  },
  {
   "cell_type": "code",
   "execution_count": 12,
   "metadata": {},
   "outputs": [],
   "source": [
    "# read the input file\n",
    "data = IO.read_json(\"../examples/sample.json\")\n",
    "rel_perm_ww, rel_perm_ow, pc_ww, pc_ow = IO.read_transport_functions(data)\n",
    "core_plug = IO.read_core_properties(data)\n",
    "fluids = IO.read_fluids(data)\n",
    "IC = IO.read_initial_conditions(data) # initial conditions\n",
    "BC = IO.createFloodingCondition(data[\"BC\"]) # boundary conditions\n",
    "numerical_params = IO.read_numerical_settings(data)\n",
    "m = IO.read_flooding_domain(data)"
   ]
  },
  {
   "cell_type": "markdown",
   "metadata": {},
   "source": [
    "## Read the Excel file of the experimental data"
   ]
  },
  {
   "cell_type": "code",
   "execution_count": 26,
   "metadata": {},
   "outputs": [
    {
     "name": "stdout",
     "output_type": "stream",
     "text": [
      "['core', 'condition', 'brine', 'oil', 'drainage_dp', 'drainage_So', 'flooding_dp', 'flooding_R', 'flooding_effluent']\n"
     ]
    }
   ],
   "source": [
    "# TODO: add excel reader for updating the model input for optimization\n",
    "# df = pd.read_excel(\"E-31-1-flooding-formatted.xlsx\")\n",
    "xls = pd.ExcelFile(\"E-31-1-flooding-formatted.xlsx\")\n",
    "sheet_names = xls.sheet_names\n",
    "print(sheet_names)"
   ]
  },
  {
   "cell_type": "code",
   "execution_count": 25,
   "metadata": {},
   "outputs": [],
   "source": [
    "df = pd.read_excel(\"E-31-1-flooding-formatted.xlsx\", sheet_name=None)"
   ]
  },
  {
   "cell_type": "code",
   "execution_count": 29,
   "metadata": {},
   "outputs": [],
   "source": [
    "core_dics = df['core'].set_index('parameter')['value'].to_dict()\n",
    "oil_dict = df['oil'].set_index('property')['value'].to_dict()\n",
    "cond_dict = df['condition'].set_index('parameter')['value'].to_dict()"
   ]
  },
  {
   "cell_type": "code",
   "execution_count": 28,
   "metadata": {},
   "outputs": [
    {
     "data": {
      "text/html": [
       "<div>\n",
       "<style scoped>\n",
       "    .dataframe tbody tr th:only-of-type {\n",
       "        vertical-align: middle;\n",
       "    }\n",
       "\n",
       "    .dataframe tbody tr th {\n",
       "        vertical-align: top;\n",
       "    }\n",
       "\n",
       "    .dataframe thead th {\n",
       "        text-align: right;\n",
       "    }\n",
       "</style>\n",
       "<table border=\"1\" class=\"dataframe\">\n",
       "  <thead>\n",
       "    <tr style=\"text-align: right;\">\n",
       "      <th></th>\n",
       "      <th>parameter</th>\n",
       "      <th>value</th>\n",
       "      <th>unit</th>\n",
       "    </tr>\n",
       "  </thead>\n",
       "  <tbody>\n",
       "    <tr>\n",
       "      <th>0</th>\n",
       "      <td>temperature</td>\n",
       "      <td>70.0</td>\n",
       "      <td>degC</td>\n",
       "    </tr>\n",
       "    <tr>\n",
       "      <th>1</th>\n",
       "      <td>back_pressure</td>\n",
       "      <td>200.0</td>\n",
       "      <td>bar</td>\n",
       "    </tr>\n",
       "    <tr>\n",
       "      <th>2</th>\n",
       "      <td>injection_rate</td>\n",
       "      <td>0.1</td>\n",
       "      <td>cm^3/min</td>\n",
       "    </tr>\n",
       "  </tbody>\n",
       "</table>\n",
       "</div>"
      ],
      "text/plain": [
       "        parameter  value      unit\n",
       "0     temperature   70.0      degC\n",
       "1   back_pressure  200.0       bar\n",
       "2  injection_rate    0.1  cm^3/min"
      ]
     },
     "execution_count": 28,
     "metadata": {},
     "output_type": "execute_result"
    }
   ],
   "source": [
    "df['condition']"
   ]
  },
  {
   "cell_type": "code",
   "execution_count": 32,
   "metadata": {},
   "outputs": [],
   "source": [
    "BC.injection_rate_ml_min = cond_dict['injection_rate'] # ml/min\n",
    "BC.production_pressure = cond_dict['back_pressure']*1e5 # Pa\n",
    "T = cond_dict['temperature'] + 273.15 # K\n",
    "\n",
    "core_plug.core_length = core_dics['L']/100 # m\n",
    "core_plug.core_diameter = core_dics['D']/100 # m\n",
    "core_plug.porosity = core_dics['porosity']\n",
    "core_plug.permeability = core_dics['perm_water']*1e-15 # m2\n",
    "core_plug.pore_volume = core_dics['pore_volume']/1e6 # m3\n",
    "core_plug.cross_sectional_area = core_plug.core_diameter**2*np.pi/4 # m2\n",
    "\n",
    "fluids.oil_density = oil_dict['density'] # kg/m3\n",
    "fluids.oil_viscosity = oil_dict['viscosity'] # Pa.s\n",
    "fluids.water_density = PropsSI('D', 'T', T, 'P', BC.production_pressure, 'water') # kg/m3\n",
    "fluids.water_viscosity = PropsSI('V', 'T', T, 'P', BC.production_pressure, 'water') # Pa.s\n",
    "\n",
    "IC.sw = 1 - core_dics['Soi']\n",
    "IC.p = BC.production_pressure\n",
    "IC.T = T"
   ]
  },
  {
   "cell_type": "code",
   "execution_count": 34,
   "metadata": {},
   "outputs": [
    {
     "data": {
      "text/plain": [
       "{'L': 6.08,\n",
       " 'D': 3.794,\n",
       " 'porosity': 0.2745,\n",
       " 'perm_air': 0.91,\n",
       " 'perm_water': 1.07,\n",
       " 'pore_volume': 18.86819962975388,\n",
       " 'Soi': 0.8029}"
      ]
     },
     "execution_count": 34,
     "metadata": {},
     "output_type": "execute_result"
    }
   ],
   "source": [
    "\n"
   ]
  },
  {
   "cell_type": "code",
   "execution_count": 56,
   "metadata": {},
   "outputs": [],
   "source": [
    "# df_sw = df['flooding_R'][df['flooding_R']['brine']=='SW']\n",
    "df_sw = df['flooding_R']\n",
    "df_sw = df_sw[df_sw['injecting brine']=='SW']\n",
    "PV_R = df_sw['PV'].to_numpy()\n",
    "R = df_sw['RF'].to_numpy()\n",
    "# cm3/s x t = cm3 = pv x pore_volume -> t = pv x pore_volume[cm3] / cm3/s\n",
    "t_R = PV_R * core_plug.pore_volume*1e6 / (BC.injection_rate_ml_min/60)\n",
    "df_dp = df['flooding_dp']\n",
    "df_dp = df_dp[df_dp['injecting brine']=='SW']\n",
    "PV_dp = df_dp['PV'].to_numpy()\n",
    "dp = df_dp['DeltaP'].to_numpy()\n",
    "dp_filtered = interp1d(PV_dp, dp, kind='linear', fill_value='extrapolate')(PV_R)\n",
    "\n",
    "numerical_params.simulation_time = t_R[-1]*1.1"
   ]
  },
  {
   "cell_type": "code",
   "execution_count": 57,
   "metadata": {},
   "outputs": [
    {
     "data": {
      "text/plain": [
       "[<matplotlib.lines.Line2D at 0x2b751b75610>]"
      ]
     },
     "execution_count": 57,
     "metadata": {},
     "output_type": "execute_result"
    },
    {
     "data": {
      "image/png": "[encoded data removed]",
      "text/plain": [
       "<Figure size 640x480 with 1 Axes>"
      ]
     },
     "metadata": {},
     "output_type": "display_data"
    }
   ],
   "source": [
    "plt.plot(PV_dp, dp)\n",
    "plt.plot(PV_R, dp_filtered, 'o')"
   ]
  },
  {
   "cell_type": "code",
   "execution_count": 58,
   "metadata": {},
   "outputs": [
    {
     "name": "stderr",
     "output_type": "stream",
     "text": [
      "c:\\Users\\aaeft\\venvs\\myfvm\\Lib\\site-packages\\pyfvtool\\cell.py:97: RuntimeWarning: invalid value encountered in divide\n",
      "  return CellVariable(self.domain, self.value/other.value)\n"
     ]
    }
   ],
   "source": [
    "cf_1d = cf.CoreFlooding1D(\n",
    "    rel_perm_ww, pc_ww, core_plug, fluids, IC, BC, numerical_params, Nx=30\n",
    ")\n",
    "\n",
    "cf2d = cf.CoreFlooding2D(\n",
    "    rel_perm_ww, pc_ww, core_plug, fluids, IC, BC, numerical_params, Nx=20, Nr = 5\n",
    ")\n",
    "\n",
    "xt_shock, sw_shock, xt_prf, sw_prf, t_ana, p_inj_ana, R_oil_ana = ff.frac_flow_wf(\n",
    "    fluids, rel_perm_ww, core_plug, IC, ut=cf_1d.u_inj, sw_inj=1.0, pv_inj=3.0)"
   ]
  },
  {
   "cell_type": "code",
   "execution_count": 59,
   "metadata": {},
   "outputs": [],
   "source": [
    "t_data, R_data, dp_data = t_R, R, dp_filtered*1e5 #cf_1d.simulate_no_pc()\n"
   ]
  },
  {
   "cell_type": "code",
   "execution_count": 60,
   "metadata": {},
   "outputs": [
    {
     "data": {
      "text/plain": [
       "[<matplotlib.lines.Line2D at 0x2b754176a90>]"
      ]
     },
     "execution_count": 60,
     "metadata": {},
     "output_type": "execute_result"
    },
    {
     "data": {
      "image/png": "[encoded data removed]",
      "text/plain": [
       "<Figure size 640x480 with 1 Axes>"
      ]
     },
     "metadata": {},
     "output_type": "display_data"
    }
   ],
   "source": [
    "plt.plot(t_data, R_data, 'o')\n",
    "# cf_1d.numerical_params.simulation_time = 130000.0"
   ]
  },
  {
   "cell_type": "markdown",
   "metadata": {},
   "source": [
    "## Fittin model to core flooding data"
   ]
  },
  {
   "cell_type": "code",
   "execution_count": 82,
   "metadata": {},
   "outputs": [],
   "source": [
    "# using lmfit to fit a two-phase model to a dataset\n",
    "from lmfit import minimize, Parameters, Model\n",
    "def residual(params, t, R):\n",
    "    cf_1d.rel_perm.kro0 = params['kro0']\n",
    "    cf_1d.rel_perm.krw0 = params['krw0']\n",
    "    cf_1d.rel_perm.nw = params['nw']\n",
    "    cf_1d.rel_perm.no = params['no']\n",
    "    t_num, R_num, dp_num = cf_1d.simulate_no_pc()\n",
    "    R_calc = interp1d(t_num, R_num)(t)\n",
    "    return (R_calc - R)\n",
    "\n",
    "def my_model(t, krw0, kro0, nw, no, swc, sor):\n",
    "    cf_1d.rel_perm.kro0 = kro0\n",
    "    cf_1d.rel_perm.krw0 = krw0\n",
    "    cf_1d.rel_perm.nw = nw\n",
    "    cf_1d.rel_perm.no = no\n",
    "    cf_1d.rel_perm.swc = swc\n",
    "    cf_1d.rel_perm.sor = sor\n",
    "    t_num, R_num, dp_num = cf_1d.simulate_no_pc()\n",
    "    R_calc = interp1d(t_num, R_num, fill_value='extrapolate')(t)\n",
    "    dp_calc = interp1d(t_num, dp_num, fill_value='extrapolate')(t)\n",
    "    return R_calc, dp_calc\n",
    "\n",
    "model = Model(my_model)\n",
    "\n",
    "params = Parameters()\n",
    "params.add('kro0', value=0.5, min=0.1, max=1.0)\n",
    "params.add('krw0', value=0.2, min=0.05, max=0.6)\n",
    "params.add('no', value=2.0, min=1.0, max=3.0)\n",
    "params.add('nw', value=2.0, min=1.0, max=3.0)\n",
    "params.add('swc', value=0.2, min=0.01, max=0.25)\n",
    "params.add('sor', value=0.45, min=0.01, max=0.5)\n",
    "\n",
    "W_R = np.ones_like(t_data)\n",
    "W_dp = 1e-5*np.ones_like(t_data)\n",
    "result = model.fit((R_data, dp_data), params, t=t_data, verbose=True, weights=(W_R, W_dp))\n",
    "\n",
    "# out = minimize(residual, params, args=(t_data, R_data))"
   ]
  },
  {
   "cell_type": "code",
   "execution_count": 83,
   "metadata": {},
   "outputs": [
    {
     "name": "stdout",
     "output_type": "stream",
     "text": [
      "[[Model]]\n",
      "    Model(my_model)\n",
      "[[Fit Statistics]]\n",
      "    # fitting method   = leastsq\n",
      "    # function evals   = 22\n",
      "    # data points      = 48\n",
      "    # variables        = 6\n",
      "    chi-square         = 13.1847060\n",
      "    reduced chi-square = 0.31392157\n",
      "    Akaike info crit   = -50.0228873\n",
      "    Bayesian info crit = -38.7956813\n",
      "    R-squared          = 1.00000000\n",
      "[[Variables]]\n",
      "    kro0:  0.50000025 +/- 3.6809e-05 (0.01%) (init = 0.5)\n",
      "    krw0:  0.19999998 +/- 5.0642e-05 (0.03%) (init = 0.2)\n",
      "    no:    2.00000514 +/- 2.8403e-09 (0.00%) (init = 2)\n",
      "    nw:    1.99999794 +/- 1.1619e-09 (0.00%) (init = 2)\n",
      "    swc:   0.19999986 +/- 6.3243e-06 (0.00%) (init = 0.2)\n",
      "    sor:   0.44999967 +/- 5.4899e-05 (0.01%) (init = 0.45)\n",
      "[[Correlations]] (unreported correlations are < 0.100)\n",
      "    C(krw0, sor)  = -0.9623\n",
      "    C(kro0, no)   = +0.9281\n",
      "    C(kro0, krw0) = -0.4807\n",
      "    C(krw0, no)   = -0.4384\n",
      "    C(kro0, sor)  = +0.4160\n",
      "    C(no, sor)    = +0.4074\n",
      "    C(no, swc)    = -0.2111\n",
      "    C(nw, sor)    = -0.2092\n",
      "    C(krw0, nw)   = +0.2083\n",
      "    C(no, nw)     = +0.2046\n",
      "    C(krw0, swc)  = -0.1725\n",
      "    C(kro0, swc)  = -0.1253\n",
      "    C(kro0, nw)   = +0.1147\n",
      "Optimized Parameters:\n",
      "Parameters([('kro0', <Parameter 'kro0', value=0.5000002520593476 +/- 3.68e-05, bounds=[0.1:1.0]>), ('krw0', <Parameter 'krw0', value=0.19999997977703138 +/- 5.06e-05, bounds=[0.05:0.6]>), ('no', <Parameter 'no', value=2.000005142747761 +/- 2.84e-09, bounds=[1.0:3.0]>), ('nw', <Parameter 'nw', value=1.9999979395191723 +/- 1.16e-09, bounds=[1.0:3.0]>), ('swc', <Parameter 'swc', value=0.19999985755656222 +/- 6.32e-06, bounds=[0.01:0.25]>), ('sor', <Parameter 'sor', value=0.44999966927542107 +/- 5.49e-05, bounds=[0.01:0.5]>)])\n"
     ]
    }
   ],
   "source": [
    "print(result.fit_report())\n",
    "print(\"Optimized Parameters:\")\n",
    "print(result.params)"
   ]
  },
  {
   "cell_type": "code",
   "execution_count": 84,
   "metadata": {},
   "outputs": [],
   "source": [
    "R_fit, dp_fit = result.eval()\n"
   ]
  },
  {
   "cell_type": "code",
   "execution_count": 85,
   "metadata": {},
   "outputs": [
    {
     "data": {
      "text/plain": [
       "[<matplotlib.lines.Line2D at 0x2b755560690>]"
      ]
     },
     "execution_count": 85,
     "metadata": {},
     "output_type": "execute_result"
    },
    {
     "data": {
      "image/png": "[encoded data removed]",
      "text/plain": [
       "<Figure size 640x480 with 1 Axes>"
      ]
     },
     "metadata": {},
     "output_type": "display_data"
    }
   ],
   "source": [
    "plt.plot(t_data, R_data, 'o')\n",
    "plt.plot(t_data, R_fit, '-')"
   ]
  },
  {
   "cell_type": "code",
   "execution_count": 86,
   "metadata": {},
   "outputs": [
    {
     "data": {
      "text/plain": [
       "[<matplotlib.lines.Line2D at 0x2b755513d50>]"
      ]
     },
     "execution_count": 86,
     "metadata": {},
     "output_type": "execute_result"
    },
    {
     "data": {
      "image/png": "[encoded data removed]",
      "text/plain": [
       "<Figure size 640x480 with 1 Axes>"
      ]
     },
     "metadata": {},
     "output_type": "display_data"
    }
   ],
   "source": [
    "plt.plot(t_data, dp_data, 'o')\n",
    "plt.plot(t_data, dp_fit, '-')"
   ]
  }
 ],
 "metadata": {
  "kernelspec": {
   "display_name": "myfvm",
   "language": "python",
   "name": "python3"
  },
  "language_info": {
   "codemirror_mode": {
    "name": "ipython",
    "version": 3
   },
   "file_extension": ".py",
   "mimetype": "text/x-python",
   "name": "python",
   "nbconvert_exporter": "python",
   "pygments_lexer": "ipython3",
   "version": "3.11.5"
  },
  "orig_nbformat": 4
 },
 "nbformat": 4,
 "nbformat_minor": 2
}
