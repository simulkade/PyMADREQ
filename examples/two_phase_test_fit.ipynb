{
 "cells": [
  {
   "cell_type": "code",
   "execution_count": 1,
   "metadata": {},
   "outputs": [
    {
     "data": {
      "text/plain": [
       "<module 'pymadreq.IO' from 'c:\\\\Users\\\\aaeft\\\\Documents\\\\GitHub\\\\PyMADREQ\\\\examples\\\\..\\\\pymadreq\\\\IO.py'>"
      ]
     },
     "execution_count": 1,
     "metadata": {},
     "output_type": "execute_result"
    }
   ],
   "source": [
    "from importlib import reload\n",
    "from pyfvtool import *\n",
    "import matplotlib.pyplot as plt\n",
    "import numpy as np\n",
    "from scipy.optimize import root\n",
    "from tqdm import tqdm\n",
    "\n",
    "import sys\n",
    "sys.path.append('..')\n",
    "from pymadreq import *\n",
    "import pymadreq.coreflood as cf\n",
    "import pymadreq.fractional_flow as ff\n",
    "import pymadreq.IO as IO\n",
    "\n",
    "reload(ff)\n",
    "reload(cf)\n",
    "reload(IO)"
   ]
  },
  {
   "cell_type": "markdown",
   "metadata": {},
   "source": [
    "## Reading input file and defining the domain"
   ]
  },
  {
   "cell_type": "code",
   "execution_count": 2,
   "metadata": {},
   "outputs": [],
   "source": [
    "# read the input file\n",
    "data = IO.read_json(\"../examples/sample.json\")\n",
    "rel_perm_ww, rel_perm_ow, pc_ww, pc_ow = IO.read_transport_functions(data)\n",
    "core_plug = IO.read_core_properties(data)\n",
    "fluids = IO.read_fluids(data)\n",
    "IC = IO.read_initial_conditions(data) # initial conditions\n",
    "BC = IO.createFloodingCondition(data[\"BC\"]) # boundary conditions\n",
    "numerical_params = IO.read_numerical_settings(data)\n",
    "m = IO.read_flooding_domain(data)"
   ]
  },
  {
   "cell_type": "code",
   "execution_count": 4,
   "metadata": {},
   "outputs": [],
   "source": [
    "cf_1d = cf.CoreFlooding1D(\n",
    "    rel_perm_ww, pc_ww, core_plug, fluids, IC, BC, numerical_params, Nx=30\n",
    ")\n",
    "\n",
    "cf2d = cf.CoreFlooding2D(\n",
    "    rel_perm_ww, pc_ww, core_plug, fluids, IC, BC, numerical_params, Nx=20, Nr = 5\n",
    ")\n",
    "\n",
    "xt_shock, sw_shock, xt_prf, sw_prf, t_ana, p_inj_ana, R_oil_ana = ff.frac_flow_wf(\n",
    "    fluids, rel_perm_ww, core_plug, IC, ut=cf_1d.u_inj, sw_inj=1.0, pv_inj=3.0)"
   ]
  },
  {
   "cell_type": "markdown",
   "metadata": {},
   "source": [
    "## Fittin model to core flooding data"
   ]
  },
  {
   "cell_type": "code",
   "execution_count": 11,
   "metadata": {},
   "outputs": [],
   "source": [
    "# using lmfit to fit a two-phase model to a dataset\n",
    "from lmfit import minimize, Parameters\n",
    "# def residual(params, x, data):\n",
    "#     amp = params['amp']\n",
    "#     phaseshift = params['phase']\n",
    "#     freq = params['frequency']\n",
    "#     decay = params['decay']\n",
    "\n",
    "#     model = amp * np.sin(x*freq + phaseshift) * np.exp(-x*x*decay)\n",
    "\n",
    "#     return (data-model)\n",
    "\n",
    "\n",
    "# params = Parameters()\n",
    "# params.add('amp', value=10)\n",
    "# params.add('decay', value=0.007)\n",
    "# params.add('phase', value=0.2)\n",
    "# params.add('frequency', value=3.0)\n",
    "\n",
    "# out = minimize(residual, params, args=(x, data))"
   ]
  }
 ],
 "metadata": {
  "kernelspec": {
   "display_name": "myfvm",
   "language": "python",
   "name": "python3"
  },
  "language_info": {
   "codemirror_mode": {
    "name": "ipython",
    "version": 3
   },
   "file_extension": ".py",
   "mimetype": "text/x-python",
   "name": "python",
   "nbconvert_exporter": "python",
   "pygments_lexer": "ipython3",
   "version": "3.11.5"
  },
  "orig_nbformat": 4
 },
 "nbformat": 4,
 "nbformat_minor": 2
}
