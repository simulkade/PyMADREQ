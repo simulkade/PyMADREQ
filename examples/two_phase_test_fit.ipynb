{
 "cells": [
  {
   "cell_type": "code",
   "execution_count": 1,
   "metadata": {},
   "outputs": [
    {
     "data": {
      "text/plain": [
       "<module 'pymadreq.IO' from 'c:\\\\Users\\\\aaeft\\\\Documents\\\\GitHub\\\\PyMADREQ\\\\examples\\\\..\\\\pymadreq\\\\IO.py'>"
      ]
     },
     "execution_count": 1,
     "metadata": {},
     "output_type": "execute_result"
    }
   ],
   "source": [
    "from importlib import reload\n",
    "from pyfvtool import *\n",
    "import matplotlib.pyplot as plt\n",
    "import numpy as np\n",
    "from scipy.optimize import root\n",
    "from tqdm import tqdm\n",
    "from scipy.interpolate import interp1d\n",
    "import pandas as pd\n",
    "from CoolProp.CoolProp import PropsSI\n",
    "\n",
    "import sys\n",
    "sys.path.append('..')\n",
    "from pymadreq import *\n",
    "import pymadreq.coreflood as cf\n",
    "import pymadreq.fractional_flow as ff\n",
    "import pymadreq.IO as IO\n",
    "\n",
    "reload(ff)\n",
    "reload(cf)\n",
    "reload(IO)"
   ]
  },
  {
   "cell_type": "markdown",
   "metadata": {},
   "source": [
    "## Reading input file and defining the domain"
   ]
  },
  {
   "cell_type": "code",
   "execution_count": 2,
   "metadata": {},
   "outputs": [],
   "source": [
    "# read the input file\n",
    "data = IO.read_json(\"../examples/sample.json\")\n",
    "rel_perm_ww, rel_perm_ow, pc_ww, pc_ow = IO.read_transport_functions(data)\n",
    "core_plug = IO.read_core_properties(data)\n",
    "fluids = IO.read_fluids(data)\n",
    "IC = IO.read_initial_conditions(data) # initial conditions\n",
    "BC = IO.createFloodingCondition(data[\"BC\"]) # boundary conditions\n",
    "numerical_params = IO.read_numerical_settings(data)\n",
    "m = IO.read_flooding_domain(data)"
   ]
  },
  {
   "cell_type": "markdown",
   "metadata": {},
   "source": [
    "## Read the Excel file of the experimental data"
   ]
  },
  {
   "cell_type": "code",
   "execution_count": 3,
   "metadata": {},
   "outputs": [
    {
     "name": "stdout",
     "output_type": "stream",
     "text": [
      "['core', 'condition', 'brine', 'oil', 'drainage_dp', 'drainage_So', 'flooding_dp', 'flooding_R', 'flooding_effluent']\n"
     ]
    }
   ],
   "source": [
    "# TODO: add excel reader for updating the model input for optimization\n",
    "# df = pd.read_excel(\"E-31-1-flooding-formatted.xlsx\")\n",
    "xls = pd.ExcelFile(\"E-31-1-flooding-formatted.xlsx\")\n",
    "sheet_names = xls.sheet_names\n",
    "print(sheet_names)"
   ]
  },
  {
   "cell_type": "code",
   "execution_count": 4,
   "metadata": {},
   "outputs": [],
   "source": [
    "df = pd.read_excel(\"E-31-1-flooding-formatted.xlsx\", sheet_name=None)"
   ]
  },
  {
   "cell_type": "code",
   "execution_count": 5,
   "metadata": {},
   "outputs": [],
   "source": [
    "core_dics = df['core'].set_index('parameter')['value'].to_dict()\n",
    "oil_dict = df['oil'].set_index('property')['value'].to_dict()\n",
    "cond_dict = df['condition'].set_index('parameter')['value'].to_dict()"
   ]
  },
  {
   "cell_type": "code",
   "execution_count": 6,
   "metadata": {},
   "outputs": [
    {
     "data": {
      "text/html": [
       "<div>\n",
       "<style scoped>\n",
       "    .dataframe tbody tr th:only-of-type {\n",
       "        vertical-align: middle;\n",
       "    }\n",
       "\n",
       "    .dataframe tbody tr th {\n",
       "        vertical-align: top;\n",
       "    }\n",
       "\n",
       "    .dataframe thead th {\n",
       "        text-align: right;\n",
       "    }\n",
       "</style>\n",
       "<table border=\"1\" class=\"dataframe\">\n",
       "  <thead>\n",
       "    <tr style=\"text-align: right;\">\n",
       "      <th></th>\n",
       "      <th>parameter</th>\n",
       "      <th>value</th>\n",
       "      <th>unit</th>\n",
       "    </tr>\n",
       "  </thead>\n",
       "  <tbody>\n",
       "    <tr>\n",
       "      <th>0</th>\n",
       "      <td>temperature</td>\n",
       "      <td>70.0</td>\n",
       "      <td>degC</td>\n",
       "    </tr>\n",
       "    <tr>\n",
       "      <th>1</th>\n",
       "      <td>back_pressure</td>\n",
       "      <td>200.0</td>\n",
       "      <td>bar</td>\n",
       "    </tr>\n",
       "    <tr>\n",
       "      <th>2</th>\n",
       "      <td>injection_rate</td>\n",
       "      <td>0.1</td>\n",
       "      <td>cm^3/min</td>\n",
       "    </tr>\n",
       "  </tbody>\n",
       "</table>\n",
       "</div>"
      ],
      "text/plain": [
       "        parameter  value      unit\n",
       "0     temperature   70.0      degC\n",
       "1   back_pressure  200.0       bar\n",
       "2  injection_rate    0.1  cm^3/min"
      ]
     },
     "execution_count": 6,
     "metadata": {},
     "output_type": "execute_result"
    }
   ],
   "source": [
    "df['condition']"
   ]
  },
  {
   "cell_type": "code",
   "execution_count": 7,
   "metadata": {},
   "outputs": [],
   "source": [
    "BC.injection_rate_ml_min = cond_dict['injection_rate'] # ml/min\n",
    "BC.production_pressure = cond_dict['back_pressure']*1e5 # Pa\n",
    "T = cond_dict['temperature'] + 273.15 # K\n",
    "\n",
    "core_plug.core_length = core_dics['L']/100 # m\n",
    "core_plug.core_diameter = core_dics['D']/100 # m\n",
    "core_plug.porosity = core_dics['porosity']\n",
    "core_plug.permeability = core_dics['perm_water']*1e-15 # m2\n",
    "core_plug.pore_volume = core_dics['pore_volume']/1e6 # m3\n",
    "core_plug.cross_sectional_area = core_plug.core_diameter**2*np.pi/4 # m2\n",
    "\n",
    "fluids.oil_density = oil_dict['density'] # kg/m3\n",
    "fluids.oil_viscosity = oil_dict['viscosity'] # Pa.s\n",
    "fluids.water_density = PropsSI('D', 'T', T, 'P', BC.production_pressure, 'water') # kg/m3\n",
    "fluids.water_viscosity = PropsSI('V', 'T', T, 'P', BC.production_pressure, 'water') # Pa.s\n",
    "\n",
    "IC.sw = 1 - core_dics['Soi']\n",
    "IC.p = BC.production_pressure\n",
    "IC.T = T"
   ]
  },
  {
   "cell_type": "code",
   "execution_count": 8,
   "metadata": {},
   "outputs": [],
   "source": [
    "# estimate initial pressure drop and other parameters\n",
    "# u = k/mu_oil*dp0/L -> dp0 = u*L*mu_oil/k\n",
    "u_inj = (BC.injection_rate_ml_min*1e-6/60)/core_plug.cross_sectional_area # m/s\n",
    "dp0 = u_inj*core_plug.core_length*fluids.oil_viscosity/core_plug.permeability\n",
    "dp0 = dp0/1e5 # bar"
   ]
  },
  {
   "cell_type": "code",
   "execution_count": 9,
   "metadata": {},
   "outputs": [],
   "source": [
    "# df_sw = df['flooding_R'][df['flooding_R']['brine']=='SW']\n",
    "df_sw = df['flooding_R']\n",
    "df_sw = df_sw[df_sw['injecting brine']=='SW']\n",
    "PV_R = df_sw['PV'].to_numpy()\n",
    "R = df_sw['RF'].to_numpy()\n",
    "# cm3/s x t = cm3 = pv x pore_volume -> t = pv x pore_volume[cm3] / cm3/s\n",
    "t_R = PV_R * core_plug.pore_volume*1e6 / (BC.injection_rate_ml_min/60)\n",
    "df_dp = df['flooding_dp']\n",
    "df_dp = df_dp[df_dp['injecting brine']=='SW']\n",
    "PV_dp = df_dp['PV'].to_numpy()\n",
    "dp = df_dp['DeltaP'].to_numpy()\n",
    "dp_filtered = interp1d(PV_dp, dp, kind='linear', fill_value='extrapolate')(PV_R)\n",
    "\n",
    "numerical_params.simulation_time = t_R[-1]*1.1"
   ]
  },
  {
   "cell_type": "code",
   "execution_count": 10,
   "metadata": {},
   "outputs": [
    {
     "data": {
      "text/plain": [
       "0.17630823032912551"
      ]
     },
     "execution_count": 10,
     "metadata": {},
     "output_type": "execute_result"
    }
   ],
   "source": [
    "# estimate the water relative permeability end point\n",
    "# u = k.krw/muw*dp/L -> krw = u*muw*L/(k*dp)\n",
    "krw_end_est = u_inj*fluids.water_viscosity*core_plug.core_length/(core_plug.permeability*dp_filtered[-1]*1e5)\n",
    "krw_end_est"
   ]
  },
  {
   "cell_type": "code",
   "execution_count": 11,
   "metadata": {},
   "outputs": [
    {
     "data": {
      "text/plain": [
       "[<matplotlib.lines.Line2D at 0x178687e4750>]"
      ]
     },
     "execution_count": 11,
     "metadata": {},
     "output_type": "execute_result"
    },
    {
     "data": {
      "image/png": "[encoded data removed]",
      "text/plain": [
       "<Figure size 640x480 with 1 Axes>"
      ]
     },
     "metadata": {},
     "output_type": "display_data"
    }
   ],
   "source": [
    "plt.plot(PV_dp, dp)\n",
    "dp_filtered[0] = dp0\n",
    "plt.plot(PV_R, dp_filtered, 'o')"
   ]
  },
  {
   "cell_type": "code",
   "execution_count": 12,
   "metadata": {},
   "outputs": [
    {
     "name": "stderr",
     "output_type": "stream",
     "text": [
      "c:\\Users\\aaeft\\venvs\\myfvm\\Lib\\site-packages\\pyfvtool\\cell.py:97: RuntimeWarning: invalid value encountered in divide\n",
      "  return CellVariable(self.domain, self.value/other.value)\n"
     ]
    }
   ],
   "source": [
    "cf_1d = cf.CoreFlooding1D(\n",
    "    rel_perm_ww, pc_ww, core_plug, fluids, IC, BC, numerical_params, Nx=30\n",
    ")\n",
    "\n",
    "cf2d = cf.CoreFlooding2D(\n",
    "    rel_perm_ww, pc_ww, core_plug, fluids, IC, BC, numerical_params, Nx=20, Nr = 5\n",
    ")\n",
    "\n",
    "# xt_shock, sw_shock, xt_prf, sw_prf, t_ana, p_inj_ana, R_oil_ana = ff.frac_flow_wf(\n",
    "#     fluids, rel_perm_ww, core_plug, IC, ut=cf_1d.u_inj, sw_inj=1.0, pv_inj=3.0)"
   ]
  },
  {
   "cell_type": "code",
   "execution_count": 13,
   "metadata": {},
   "outputs": [],
   "source": [
    "t_data, R_data, dp_data = t_R, R, dp_filtered*1e5 #cf_1d.simulate_no_pc()\n"
   ]
  },
  {
   "cell_type": "code",
   "execution_count": 14,
   "metadata": {},
   "outputs": [
    {
     "data": {
      "text/plain": [
       "[<matplotlib.lines.Line2D at 0x1786ab1c690>]"
      ]
     },
     "execution_count": 14,
     "metadata": {},
     "output_type": "execute_result"
    },
    {
     "data": {
      "image/png": "[encoded data removed]",
      "text/plain": [
       "<Figure size 640x480 with 1 Axes>"
      ]
     },
     "metadata": {},
     "output_type": "display_data"
    }
   ],
   "source": [
    "plt.plot(t_data, R_data, 'o')\n",
    "# cf_1d.numerical_params.simulation_time = 130000.0"
   ]
  },
  {
   "cell_type": "markdown",
   "metadata": {},
   "source": [
    "## Fittin model to core flooding data"
   ]
  },
  {
   "cell_type": "code",
   "execution_count": 15,
   "metadata": {},
   "outputs": [],
   "source": [
    "# using lmfit to fit a two-phase model to a dataset\n",
    "from lmfit import minimize, Parameters, Model\n",
    "def residual(params, t, R):\n",
    "    cf_1d.rel_perm.kro0 = params['kro0']\n",
    "    cf_1d.rel_perm.krw0 = params['krw0']\n",
    "    cf_1d.rel_perm.nw = params['nw']\n",
    "    cf_1d.rel_perm.no = params['no']\n",
    "    t_num, R_num, dp_num = cf_1d.simulate_no_pc()\n",
    "    R_calc = interp1d(t_num, R_num)(t)\n",
    "    return (R_calc - R)\n",
    "\n",
    "def my_model(t, krw0, kro0, nw, no, swc, sor):\n",
    "    cf_1d.rel_perm.kro0 = kro0\n",
    "    cf_1d.rel_perm.krw0 = krw0\n",
    "    cf_1d.rel_perm.nw = nw\n",
    "    cf_1d.rel_perm.no = no\n",
    "    cf_1d.rel_perm.swc = swc\n",
    "    cf_1d.rel_perm.sor = sor\n",
    "    t_num, R_num, dp_num = cf_1d.simulate_no_pc()\n",
    "    R_calc = interp1d(t_num, R_num, fill_value='extrapolate')(t)\n",
    "    dp_calc = interp1d(t_num, dp_num, fill_value='extrapolate')(t)\n",
    "    return R_calc, dp_calc\n",
    "\n",
    "def my_model2(t, krw0, kro0, nw, no, swc, sor):\n",
    "    cf_1d.rel_perm.kro0 = kro0\n",
    "    cf_1d.rel_perm.krw0 = krw0\n",
    "    cf_1d.rel_perm.nw = nw\n",
    "    cf_1d.rel_perm.no = no\n",
    "    cf_1d.rel_perm.swc = swc\n",
    "    cf_1d.rel_perm.sor = sor\n",
    "    t_num, R_num, dp_num = cf_1d.simulate_no_pc()\n",
    "    R_calc = interp1d(t_num, R_num, fill_value='extrapolate')(t)\n",
    "    # dp_calc = interp1d(t_num, dp_num, fill_value='extrapolate')(t)\n",
    "    return R_calc\n",
    "\n",
    "model = Model(my_model)\n",
    "model2 = Model(my_model2)\n",
    "\n",
    "params = Parameters()\n",
    "params.add('kro0', value=0.5, min=0.1, max=1.0)\n",
    "params.add('krw0', value=krw_end_est, min=0.05, max=0.6, vary=False)\n",
    "params.add('no', value=2.0, min=1.0, max=4.0)\n",
    "params.add('nw', value=2.0, min=1.0, max=4.2)\n",
    "params.add('swc', value=IC.sw, min=0.01, max=0.25, vary=False)\n",
    "params.add('sor', value=0.2, min=0.01, max=0.5, vary=False)\n",
    "\n",
    "W_R = np.ones_like(t_data)\n",
    "W_R[-2:] = 5.0\n",
    "W_dp = np.ones_like(t_data)/dp_data.max()\n",
    "arg_dp_max = np.argmax(dp_data)\n",
    "W_dp[arg_dp_max:arg_dp_max+1] *= 5.0\n",
    "result = model.fit((R_data, dp_data), params, t=t_data, verbose=True, \n",
    "                   weights=(W_R, W_dp), method='powell')\n",
    "# result2 = model2.fit(R_data, params, t=t_data, verbose=True, \n",
    "#                      weights=W_R, method='nelder')\n",
    "# out = minimize(residual, params, args=(t_data, R_data))"
   ]
  },
  {
   "cell_type": "code",
   "execution_count": 22,
   "metadata": {},
   "outputs": [
    {
     "name": "stdout",
     "output_type": "stream",
     "text": [
      "[[Model]]\n",
      "    Model(my_model)\n",
      "[[Fit Statistics]]\n",
      "    # fitting method   = Powell\n",
      "    # function evals   = 438\n",
      "    # data points      = 48\n",
      "    # variables        = 3\n",
      "    chi-square         = 1.95270693\n",
      "    reduced chi-square = 0.04339349\n",
      "    Akaike info crit   = -147.695253\n",
      "    Bayesian info crit = -142.081650\n",
      "    R-squared          = 1.00000000\n",
      "[[Variables]]\n",
      "    kro0:  0.61615101 +/- 2.2787e-04 (0.04%) (init = 0.5)\n",
      "    krw0:  0.1763082 (fixed)\n",
      "    no:    2.99990637 +/- 4.5873e-06 (0.00%) (init = 2)\n",
      "    nw:    1.16620925 +/- 1.4538e-04 (0.01%) (init = 2)\n",
      "    swc:   0.1971 (fixed)\n",
      "    sor:   0.2 (fixed)\n",
      "[[Correlations]] (unreported correlations are < 0.100)\n",
      "    C(kro0, nw) = +0.4547\n",
      "    C(no, nw)   = -0.3349\n",
      "    C(kro0, no) = +0.3064\n",
      "Optimized Parameters:\n",
      "Parameters([('kro0', <Parameter 'kro0', value=0.6161510105788608 +/- 0.000228, bounds=[0.1:1.0]>), ('krw0', <Parameter 'krw0', value=0.17630823032912551 (fixed), bounds=[0.05:0.6]>), ('no', <Parameter 'no', value=2.9999063668732875 +/- 4.59e-06, bounds=[1.0:3.0]>), ('nw', <Parameter 'nw', value=1.1662092482096116 +/- 0.000145, bounds=[1.0:3.0]>), ('swc', <Parameter 'swc', value=0.19710000000000005 (fixed), bounds=[0.01:0.25]>), ('sor', <Parameter 'sor', value=0.2 (fixed), bounds=[0.01:0.5]>)])\n"
     ]
    }
   ],
   "source": [
    "print(result.fit_report())\n",
    "print(\"Optimized Parameters:\")\n",
    "print(result.params)"
   ]
  },
  {
   "cell_type": "code",
   "execution_count": 17,
   "metadata": {},
   "outputs": [],
   "source": [
    "# save the result to a json file\n",
    "# with open('kr_flooding_fit.json', 'w') as f:\n",
    "#     json.dump(result_dict, f)"
   ]
  },
  {
   "cell_type": "code",
   "execution_count": 23,
   "metadata": {},
   "outputs": [],
   "source": [
    "R_fit, dp_fit = result.eval()\n"
   ]
  },
  {
   "cell_type": "code",
   "execution_count": 24,
   "metadata": {},
   "outputs": [
    {
     "data": {
      "text/plain": [
       "[<matplotlib.lines.Line2D at 0x1787388cbd0>]"
      ]
     },
     "execution_count": 24,
     "metadata": {},
     "output_type": "execute_result"
    },
    {
     "data": {
      "image/png": "[encoded data removed]",
      "text/plain": [
       "<Figure size 640x480 with 1 Axes>"
      ]
     },
     "metadata": {},
     "output_type": "display_data"
    }
   ],
   "source": [
    "plt.plot(t_data, R_data, 'o')\n",
    "plt.plot(t_data, R_fit, '-')"
   ]
  },
  {
   "cell_type": "code",
   "execution_count": 25,
   "metadata": {},
   "outputs": [
    {
     "data": {
      "text/plain": [
       "[<matplotlib.lines.Line2D at 0x1786b5acd90>]"
      ]
     },
     "execution_count": 25,
     "metadata": {},
     "output_type": "execute_result"
    },
    {
     "data": {
      "image/png": "[encoded data removed]",
      "text/plain": [
       "<Figure size 640x480 with 1 Axes>"
      ]
     },
     "metadata": {},
     "output_type": "display_data"
    }
   ],
   "source": [
    "plt.plot(t_data, dp_data, 'o')\n",
    "plt.plot(t_data, dp_fit, '-')"
   ]
  },
  {
   "cell_type": "code",
   "execution_count": 21,
   "metadata": {},
   "outputs": [
    {
     "data": {
      "text/plain": [
       "[<matplotlib.lines.Line2D at 0x178738a8550>]"
      ]
     },
     "execution_count": 21,
     "metadata": {},
     "output_type": "execute_result"
    },
    {
     "data": {
      "image/png": "[encoded data removed]",
      "text/plain": [
       "<Figure size 640x480 with 1 Axes>"
      ]
     },
     "metadata": {},
     "output_type": "display_data"
    }
   ],
   "source": [
    "plt.plot(PV_dp, dp, '.')\n"
   ]
  }
 ],
 "metadata": {
  "kernelspec": {
   "display_name": "myfvm",
   "language": "python",
   "name": "python3"
  },
  "language_info": {
   "codemirror_mode": {
    "name": "ipython",
    "version": 3
   },
   "file_extension": ".py",
   "mimetype": "text/x-python",
   "name": "python",
   "nbconvert_exporter": "python",
   "pygments_lexer": "ipython3",
   "version": "3.11.5"
  },
  "orig_nbformat": 4
 },
 "nbformat": 4,
 "nbformat_minor": 2
}
