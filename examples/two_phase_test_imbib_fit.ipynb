{
 "cells": [
  {
   "cell_type": "code",
   "execution_count": 88,
   "metadata": {},
   "outputs": [
    {
     "data": {
      "text/plain": [
       "<module 'pymadreq.IO' from 'c:\\\\Users\\\\aaeft\\\\Documents\\\\GitHub\\\\PyMADREQ\\\\examples\\\\..\\\\pymadreq\\\\IO.py'>"
      ]
     },
     "execution_count": 88,
     "metadata": {},
     "output_type": "execute_result"
    }
   ],
   "source": [
    "from importlib import reload\n",
    "from pyfvtool import *\n",
    "import matplotlib.pyplot as plt\n",
    "import numpy as np\n",
    "from scipy.optimize import root\n",
    "from tqdm import tqdm\n",
    "from scipy.interpolate import interp1d\n",
    "import pandas as pd\n",
    "from CoolProp.CoolProp import PropsSI\n",
    "\n",
    "import sys\n",
    "sys.path.append('..')\n",
    "from pymadreq import *\n",
    "import pymadreq.coreflood as cf\n",
    "import pymadreq.fractional_flow as ff\n",
    "import pymadreq.IO as IO\n",
    "\n",
    "reload(ff)\n",
    "reload(cf)\n",
    "reload(IO)"
   ]
  },
  {
   "cell_type": "markdown",
   "metadata": {},
   "source": [
    "## Reading input file and defining the domain"
   ]
  },
  {
   "cell_type": "code",
   "execution_count": 89,
   "metadata": {},
   "outputs": [],
   "source": [
    "# read the input file\n",
    "data = IO.read_json(\"../examples/sample.json\")\n",
    "rel_perm_ww, rel_perm_ow, pc_ww, pc_ow = IO.read_transport_functions(data)\n",
    "core_plug = IO.read_core_properties(data)\n",
    "fluids = IO.read_fluids(data)\n",
    "IC = IO.read_initial_conditions(data) # initial conditions\n",
    "BC = IO.createFloodingCondition(data[\"BC\"]) # boundary conditions\n",
    "numerical_params = IO.read_numerical_settings(data)\n",
    "m = IO.read_flooding_domain(data)"
   ]
  },
  {
   "cell_type": "markdown",
   "metadata": {},
   "source": [
    "## Read the Excel file of the experimental data"
   ]
  },
  {
   "cell_type": "code",
   "execution_count": 90,
   "metadata": {},
   "outputs": [
    {
     "name": "stdout",
     "output_type": "stream",
     "text": [
      "['core', 'brine', 'oil', 'condition', 'DSW', 'SW', 'FW']\n"
     ]
    }
   ],
   "source": [
    "# TODO: add excel reader for updating the model input for optimization\n",
    "# df = pd.read_excel(\"E-31-1-flooding-formatted.xlsx\")\n",
    "xls = pd.ExcelFile(\"E-31-imbibitions-formatted.xlsx\")\n",
    "sheet_names = xls.sheet_names\n",
    "print(sheet_names)"
   ]
  },
  {
   "cell_type": "code",
   "execution_count": 91,
   "metadata": {},
   "outputs": [],
   "source": [
    "df_core = pd.read_excel(\"E-31-imbibitions-formatted.xlsx\", sheet_name=\"core\")\n",
    "df_oil = pd.read_excel(\"E-31-imbibitions-formatted.xlsx\", sheet_name=\"oil\")\n",
    "df_cond = pd.read_excel(\"E-31-imbibitions-formatted.xlsx\", sheet_name=\"condition\")\n",
    "df_imb = pd.read_excel(\"E-31-imbibitions-formatted.xlsx\", sheet_name=\"SW\")"
   ]
  },
  {
   "cell_type": "code",
   "execution_count": 92,
   "metadata": {},
   "outputs": [],
   "source": [
    "core_dics = df_core.set_index('parameter')['value'].to_dict()\n",
    "oil_dict = df_oil.set_index('property')['value'].to_dict()\n",
    "cond_dict = df_cond.set_index('parameter')['value'].to_dict()"
   ]
  },
  {
   "cell_type": "code",
   "execution_count": 93,
   "metadata": {},
   "outputs": [],
   "source": [
    "BC.production_pressure = cond_dict['back_pressure']*1e5 # Pa\n",
    "T = cond_dict['temperature'] + 273.15 # K\n",
    "\n",
    "core_plug.core_length = core_dics['L']/100 # m\n",
    "core_plug.core_diameter = core_dics['D']/100 # m\n",
    "core_plug.porosity = core_dics['porosity']\n",
    "core_plug.permeability = core_dics['perm_water']*1e-15 # m2\n",
    "core_plug.pore_volume = core_dics['pore_volume']/1e6 # m3\n",
    "core_plug.cross_sectional_area = core_plug.core_diameter**2*np.pi/4 # m2\n",
    "\n",
    "fluids.oil_density = oil_dict['density'] # kg/m3\n",
    "fluids.oil_viscosity = oil_dict['viscosity'] # Pa.s\n",
    "fluids.water_density = PropsSI('D', 'T', T, 'P', BC.production_pressure, 'water') # kg/m3\n",
    "fluids.water_viscosity = PropsSI('V', 'T', T, 'P', BC.production_pressure, 'water') # Pa.s\n",
    "\n",
    "IC.sw = 1 - core_dics['Soi']\n",
    "IC.p = BC.production_pressure\n",
    "IC.T = T"
   ]
  },
  {
   "cell_type": "code",
   "execution_count": 94,
   "metadata": {},
   "outputs": [],
   "source": [
    "t_imb = 3600*df_imb['Time (hr)'].to_numpy() # hr to s\n",
    "RF_imb = df_imb['RF (%)'].to_numpy()/100 # % to fraction"
   ]
  },
  {
   "cell_type": "code",
   "execution_count": 95,
   "metadata": {},
   "outputs": [],
   "source": [
    "\n",
    "numerical_params.simulation_time = t_imb[-1]*1.1\n",
    "# assign fitted relperm parameters\n",
    "rel_perm_ww.krw0 = 0.1763082\n",
    "rel_perm_ww.no = 2.68964890\n",
    "rel_perm_ww.nw = 1.93153404\n",
    "rel_perm_ww.sor = 0.2 # 0.37729816\n",
    "rel_perm_ww.swc = 0.1971\n",
    "rel_perm_ww.kro0 = 0.83903614\n",
    "\n",
    "# kro0:  0.83903614 (init = 0.5)\n",
    "# krw0:  0.1763082 (fixed)\n",
    "# no:    2.68964890 (init = 2)\n",
    "# nw:    1.93153404 (init = 2)\n",
    "# swc:   0.1971 (fixed)\n",
    "# sor:   0.37729816 (init = 0.3)"
   ]
  },
  {
   "cell_type": "code",
   "execution_count": 96,
   "metadata": {},
   "outputs": [
    {
     "name": "stderr",
     "output_type": "stream",
     "text": [
      "c:\\Users\\aaeft\\venvs\\myfvm\\Lib\\site-packages\\pyfvtool\\cell.py:97: RuntimeWarning: invalid value encountered in divide\n",
      "  return CellVariable(self.domain, self.value/other.value)\n"
     ]
    }
   ],
   "source": [
    "cf2d_imb = cf.CoreImbibition(rel_perm_ww, pc_ww, core_plug, \n",
    "                             fluids, IC, BC, numerical_params, Nx=15, Nr = 5)"
   ]
  },
  {
   "cell_type": "markdown",
   "metadata": {},
   "source": [
    "## Fittin model to core flooding data"
   ]
  },
  {
   "cell_type": "code",
   "execution_count": 114,
   "metadata": {},
   "outputs": [
    {
     "ename": "KeyboardInterrupt",
     "evalue": "",
     "output_type": "error",
     "traceback": [
      "\u001b[1;31m---------------------------------------------------------------------------\u001b[0m",
      "\u001b[1;31mKeyboardInterrupt\u001b[0m                         Traceback (most recent call last)",
      "\u001b[1;32mc:\\Users\\aaeft\\Documents\\GitHub\\PyMADREQ\\examples\\two_phase_test_imbib_fit.ipynb Cell 13\u001b[0m line \u001b[0;36m4\n\u001b[0;32m     <a href='vscode-notebook-cell:/c%3A/Users/aaeft/Documents/GitHub/PyMADREQ/examples/two_phase_test_imbib_fit.ipynb#X23sZmlsZQ%3D%3D?line=41'>42</a>\u001b[0m W_R \u001b[39m=\u001b[39m np\u001b[39m.\u001b[39mones_like(t_imb)\n\u001b[0;32m     <a href='vscode-notebook-cell:/c%3A/Users/aaeft/Documents/GitHub/PyMADREQ/examples/two_phase_test_imbib_fit.ipynb#X23sZmlsZQ%3D%3D?line=42'>43</a>\u001b[0m \u001b[39m# W_R[-2:] = 5.0\u001b[39;00m\n\u001b[1;32m---> <a href='vscode-notebook-cell:/c%3A/Users/aaeft/Documents/GitHub/PyMADREQ/examples/two_phase_test_imbib_fit.ipynb#X23sZmlsZQ%3D%3D?line=43'>44</a>\u001b[0m result \u001b[39m=\u001b[39m model\u001b[39m.\u001b[39;49mfit(RF_imb, params, t\u001b[39m=\u001b[39;49mt_imb, verbose\u001b[39m=\u001b[39;49m\u001b[39m2\u001b[39;49m, \n\u001b[0;32m     <a href='vscode-notebook-cell:/c%3A/Users/aaeft/Documents/GitHub/PyMADREQ/examples/two_phase_test_imbib_fit.ipynb#X23sZmlsZQ%3D%3D?line=44'>45</a>\u001b[0m                    weights\u001b[39m=\u001b[39;49mW_R, method\u001b[39m=\u001b[39;49m\u001b[39m'\u001b[39;49m\u001b[39mleastsq\u001b[39;49m\u001b[39m'\u001b[39;49m)\n\u001b[0;32m     <a href='vscode-notebook-cell:/c%3A/Users/aaeft/Documents/GitHub/PyMADREQ/examples/two_phase_test_imbib_fit.ipynb#X23sZmlsZQ%3D%3D?line=45'>46</a>\u001b[0m \u001b[39m# result2 = model2.fit(R_data, params, t=t_data, verbose=True, \u001b[39;00m\n\u001b[0;32m     <a href='vscode-notebook-cell:/c%3A/Users/aaeft/Documents/GitHub/PyMADREQ/examples/two_phase_test_imbib_fit.ipynb#X23sZmlsZQ%3D%3D?line=46'>47</a>\u001b[0m \u001b[39m#                      weights=W_R, method='nelder')\u001b[39;00m\n\u001b[0;32m     <a href='vscode-notebook-cell:/c%3A/Users/aaeft/Documents/GitHub/PyMADREQ/examples/two_phase_test_imbib_fit.ipynb#X23sZmlsZQ%3D%3D?line=47'>48</a>\u001b[0m \u001b[39m# out = minimize(residual, params, args=(t_data, R_data))\u001b[39;00m\n",
      "File \u001b[1;32mc:\\Users\\aaeft\\venvs\\myfvm\\Lib\\site-packages\\lmfit\\model.py:1103\u001b[0m, in \u001b[0;36mModel.fit\u001b[1;34m(self, data, params, weights, method, iter_cb, scale_covar, verbose, fit_kws, nan_policy, calc_covar, max_nfev, coerce_farray, **kwargs)\u001b[0m\n\u001b[0;32m   1097\u001b[0m     fit_kws \u001b[39m=\u001b[39m {}\n\u001b[0;32m   1099\u001b[0m output \u001b[39m=\u001b[39m ModelResult(\u001b[39mself\u001b[39m, params, method\u001b[39m=\u001b[39mmethod, iter_cb\u001b[39m=\u001b[39miter_cb,\n\u001b[0;32m   1100\u001b[0m                      scale_covar\u001b[39m=\u001b[39mscale_covar, fcn_kws\u001b[39m=\u001b[39mkwargs,\n\u001b[0;32m   1101\u001b[0m                      nan_policy\u001b[39m=\u001b[39m\u001b[39mself\u001b[39m\u001b[39m.\u001b[39mnan_policy, calc_covar\u001b[39m=\u001b[39mcalc_covar,\n\u001b[0;32m   1102\u001b[0m                      max_nfev\u001b[39m=\u001b[39mmax_nfev, \u001b[39m*\u001b[39m\u001b[39m*\u001b[39mfit_kws)\n\u001b[1;32m-> 1103\u001b[0m output\u001b[39m.\u001b[39;49mfit(data\u001b[39m=\u001b[39;49mdata, weights\u001b[39m=\u001b[39;49mweights)\n\u001b[0;32m   1104\u001b[0m output\u001b[39m.\u001b[39mcomponents \u001b[39m=\u001b[39m \u001b[39mself\u001b[39m\u001b[39m.\u001b[39mcomponents\n\u001b[0;32m   1105\u001b[0m \u001b[39mreturn\u001b[39;00m output\n",
      "File \u001b[1;32mc:\\Users\\aaeft\\venvs\\myfvm\\Lib\\site-packages\\lmfit\\model.py:1466\u001b[0m, in \u001b[0;36mModelResult.fit\u001b[1;34m(self, data, params, weights, method, nan_policy, **kwargs)\u001b[0m\n\u001b[0;32m   1464\u001b[0m \u001b[39mself\u001b[39m\u001b[39m.\u001b[39muserargs \u001b[39m=\u001b[39m (\u001b[39mself\u001b[39m\u001b[39m.\u001b[39mdata, \u001b[39mself\u001b[39m\u001b[39m.\u001b[39mweights)\n\u001b[0;32m   1465\u001b[0m \u001b[39mself\u001b[39m\u001b[39m.\u001b[39muserkws\u001b[39m.\u001b[39mupdate(kwargs)\n\u001b[1;32m-> 1466\u001b[0m \u001b[39mself\u001b[39m\u001b[39m.\u001b[39minit_fit \u001b[39m=\u001b[39m \u001b[39mself\u001b[39;49m\u001b[39m.\u001b[39;49mmodel\u001b[39m.\u001b[39;49meval(params\u001b[39m=\u001b[39;49m\u001b[39mself\u001b[39;49m\u001b[39m.\u001b[39;49mparams, \u001b[39m*\u001b[39;49m\u001b[39m*\u001b[39;49m\u001b[39mself\u001b[39;49m\u001b[39m.\u001b[39;49muserkws)\n\u001b[0;32m   1467\u001b[0m _ret \u001b[39m=\u001b[39m \u001b[39mself\u001b[39m\u001b[39m.\u001b[39mminimize(method\u001b[39m=\u001b[39m\u001b[39mself\u001b[39m\u001b[39m.\u001b[39mmethod)\n\u001b[0;32m   1468\u001b[0m \u001b[39mself\u001b[39m\u001b[39m.\u001b[39mmodel\u001b[39m.\u001b[39mpost_fit(_ret)\n",
      "File \u001b[1;32mc:\\Users\\aaeft\\venvs\\myfvm\\Lib\\site-packages\\lmfit\\model.py:930\u001b[0m, in \u001b[0;36mModel.eval\u001b[1;34m(self, params, **kwargs)\u001b[0m\n\u001b[0;32m    897\u001b[0m \u001b[39mdef\u001b[39;00m \u001b[39meval\u001b[39m(\u001b[39mself\u001b[39m, params\u001b[39m=\u001b[39m\u001b[39mNone\u001b[39;00m, \u001b[39m*\u001b[39m\u001b[39m*\u001b[39mkwargs):\n\u001b[0;32m    898\u001b[0m \u001b[39m    \u001b[39m\u001b[39m\"\"\"Evaluate the model with supplied parameters and keyword arguments.\u001b[39;00m\n\u001b[0;32m    899\u001b[0m \n\u001b[0;32m    900\u001b[0m \u001b[39m    Parameters\u001b[39;00m\n\u001b[1;32m   (...)\u001b[0m\n\u001b[0;32m    928\u001b[0m \n\u001b[0;32m    929\u001b[0m \u001b[39m    \"\"\"\u001b[39;00m\n\u001b[1;32m--> 930\u001b[0m     \u001b[39mreturn\u001b[39;00m coerce_arraylike(\u001b[39mself\u001b[39;49m\u001b[39m.\u001b[39;49mfunc(\u001b[39m*\u001b[39;49m\u001b[39m*\u001b[39;49m\u001b[39mself\u001b[39;49m\u001b[39m.\u001b[39;49mmake_funcargs(params, kwargs)))\n",
      "\u001b[1;32mc:\\Users\\aaeft\\Documents\\GitHub\\PyMADREQ\\examples\\two_phase_test_imbib_fit.ipynb Cell 13\u001b[0m line \u001b[0;36m2\n\u001b[0;32m     <a href='vscode-notebook-cell:/c%3A/Users/aaeft/Documents/GitHub/PyMADREQ/examples/two_phase_test_imbib_fit.ipynb#X23sZmlsZQ%3D%3D?line=12'>13</a>\u001b[0m pc_ww \u001b[39m=\u001b[39m cf\u001b[39m.\u001b[39mCapillaryPressurePiecewise(\n\u001b[0;32m     <a href='vscode-notebook-cell:/c%3A/Users/aaeft/Documents/GitHub/PyMADREQ/examples/two_phase_test_imbib_fit.ipynb#X23sZmlsZQ%3D%3D?line=13'>14</a>\u001b[0m     sw_pc0\u001b[39m=\u001b[39msw_pc0,\n\u001b[0;32m     <a href='vscode-notebook-cell:/c%3A/Users/aaeft/Documents/GitHub/PyMADREQ/examples/two_phase_test_imbib_fit.ipynb#X23sZmlsZQ%3D%3D?line=14'>15</a>\u001b[0m     pce\u001b[39m=\u001b[39m\u001b[39m1e5\u001b[39m,\n\u001b[1;32m   (...)\u001b[0m\n\u001b[0;32m     <a href='vscode-notebook-cell:/c%3A/Users/aaeft/Documents/GitHub/PyMADREQ/examples/two_phase_test_imbib_fit.ipynb#X23sZmlsZQ%3D%3D?line=23'>24</a>\u001b[0m     curve_factor_l\u001b[39m=\u001b[39m\u001b[39m5.0\u001b[39m,\n\u001b[0;32m     <a href='vscode-notebook-cell:/c%3A/Users/aaeft/Documents/GitHub/PyMADREQ/examples/two_phase_test_imbib_fit.ipynb#X23sZmlsZQ%3D%3D?line=24'>25</a>\u001b[0m     curve_factor_h\u001b[39m=\u001b[39m\u001b[39m10.0\u001b[39m)\n\u001b[0;32m     <a href='vscode-notebook-cell:/c%3A/Users/aaeft/Documents/GitHub/PyMADREQ/examples/two_phase_test_imbib_fit.ipynb#X23sZmlsZQ%3D%3D?line=25'>26</a>\u001b[0m cf2d_imb \u001b[39m=\u001b[39m cf\u001b[39m.\u001b[39mCoreImbibition(rel_perm_ww, pc_ww, core_plug, \n\u001b[0;32m     <a href='vscode-notebook-cell:/c%3A/Users/aaeft/Documents/GitHub/PyMADREQ/examples/two_phase_test_imbib_fit.ipynb#X23sZmlsZQ%3D%3D?line=26'>27</a>\u001b[0m                          fluids, IC, BC, numerical_params, Nx\u001b[39m=\u001b[39m\u001b[39m20\u001b[39m, Nr \u001b[39m=\u001b[39m \u001b[39m5\u001b[39m)\n\u001b[1;32m---> <a href='vscode-notebook-cell:/c%3A/Users/aaeft/Documents/GitHub/PyMADREQ/examples/two_phase_test_imbib_fit.ipynb#X23sZmlsZQ%3D%3D?line=27'>28</a>\u001b[0m t_num, R_num \u001b[39m=\u001b[39m cf2d_imb\u001b[39m.\u001b[39;49msimulate()\n\u001b[0;32m     <a href='vscode-notebook-cell:/c%3A/Users/aaeft/Documents/GitHub/PyMADREQ/examples/two_phase_test_imbib_fit.ipynb#X23sZmlsZQ%3D%3D?line=28'>29</a>\u001b[0m R_calc \u001b[39m=\u001b[39m interp1d(t_num, R_num, fill_value\u001b[39m=\u001b[39m\u001b[39m'\u001b[39m\u001b[39mextrapolate\u001b[39m\u001b[39m'\u001b[39m)(t)\n\u001b[0;32m     <a href='vscode-notebook-cell:/c%3A/Users/aaeft/Documents/GitHub/PyMADREQ/examples/two_phase_test_imbib_fit.ipynb#X23sZmlsZQ%3D%3D?line=29'>30</a>\u001b[0m \u001b[39m# dp_calc = interp1d(t_num, dp_num, fill_value='extrapolate')(t)\u001b[39;00m\n",
      "File \u001b[1;32mc:\\Users\\aaeft\\Documents\\GitHub\\PyMADREQ\\examples\\..\\pymadreq\\coreflood.py:1208\u001b[0m, in \u001b[0;36mCoreImbibition.simulate\u001b[1;34m(self)\u001b[0m\n\u001b[0;32m   1206\u001b[0m RHSpc1\u001b[39m=\u001b[39mdivergenceTerm(labdao\u001b[39m*\u001b[39mpcgrad)\n\u001b[0;32m   1207\u001b[0m RHS1 \u001b[39m=\u001b[39m RHSbcp\u001b[39m+\u001b[39mRHSpc1  \u001b[39m# with capillary\u001b[39;00m\n\u001b[1;32m-> 1208\u001b[0m p_new \u001b[39m=\u001b[39m solvePDE(\u001b[39mself\u001b[39;49m\u001b[39m.\u001b[39;49mdomain, Mdiffp1 \u001b[39m+\u001b[39;49m Mbcp, RHS1)\n\u001b[0;32m   1209\u001b[0m \u001b[39m# solve for Sw\u001b[39;00m\n\u001b[0;32m   1210\u001b[0m pgrad \u001b[39m=\u001b[39m gradientTerm(p_new)\n",
      "File \u001b[1;32mc:\\Users\\aaeft\\venvs\\myfvm\\Lib\\site-packages\\pyfvtool\\pdesolver.py:38\u001b[0m, in \u001b[0;36msolvePDE\u001b[1;34m(m, M, RHS, externalsolver)\u001b[0m\n\u001b[0;32m     36\u001b[0m \u001b[39melse\u001b[39;00m:\n\u001b[0;32m     37\u001b[0m     solver \u001b[39m=\u001b[39m externalsolver\n\u001b[1;32m---> 38\u001b[0m phi \u001b[39m=\u001b[39m solver(M, RHS)\n\u001b[0;32m     39\u001b[0m \u001b[39mreturn\u001b[39;00m CellVariable(m, np\u001b[39m.\u001b[39mreshape(phi, m\u001b[39m.\u001b[39mdims\u001b[39m+\u001b[39m\u001b[39m2\u001b[39m))\n",
      "File \u001b[1;32mc:\\Users\\aaeft\\venvs\\myfvm\\Lib\\site-packages\\scipy\\sparse\\linalg\\_dsolve\\linsolve.py:273\u001b[0m, in \u001b[0;36mspsolve\u001b[1;34m(A, b, permc_spec, use_umfpack)\u001b[0m\n\u001b[0;32m    270\u001b[0m     flag \u001b[39m=\u001b[39m \u001b[39m0\u001b[39m  \u001b[39m# CSR format\u001b[39;00m\n\u001b[0;32m    272\u001b[0m options \u001b[39m=\u001b[39m \u001b[39mdict\u001b[39m(ColPerm\u001b[39m=\u001b[39mpermc_spec)\n\u001b[1;32m--> 273\u001b[0m x, info \u001b[39m=\u001b[39m _superlu\u001b[39m.\u001b[39;49mgssv(N, A\u001b[39m.\u001b[39;49mnnz, A\u001b[39m.\u001b[39;49mdata, A\u001b[39m.\u001b[39;49mindices, A\u001b[39m.\u001b[39;49mindptr,\n\u001b[0;32m    274\u001b[0m                         b, flag, options\u001b[39m=\u001b[39;49moptions)\n\u001b[0;32m    275\u001b[0m \u001b[39mif\u001b[39;00m info \u001b[39m!=\u001b[39m \u001b[39m0\u001b[39m:\n\u001b[0;32m    276\u001b[0m     warn(\u001b[39m\"\u001b[39m\u001b[39mMatrix is exactly singular\u001b[39m\u001b[39m\"\u001b[39m, MatrixRankWarning)\n",
      "\u001b[1;31mKeyboardInterrupt\u001b[0m: "
     ]
    }
   ],
   "source": [
    "# using lmfit to fit a two-phase model to a dataset\n",
    "from lmfit import Parameters, Model\n",
    "# def residual(params, t, R):\n",
    "#     cf_1d.rel_perm.kro0 = params['kro0']\n",
    "#     cf_1d.rel_perm.krw0 = params['krw0']\n",
    "#     cf_1d.rel_perm.nw = params['nw']\n",
    "#     cf_1d.rel_perm.no = params['no']\n",
    "#     t_num, R_num, dp_num = cf_1d.simulate_no_pc()\n",
    "#     R_calc = interp1d(t_num, R_num)(t)\n",
    "#     return (R_calc - R)\n",
    "\n",
    "def my_model(t, sw_pc0, pc_lm, pc_hm, pc_min, pc_max):\n",
    "    pc_ww = cf.CapillaryPressurePiecewise(\n",
    "        sw_pc0=sw_pc0,\n",
    "        pce=1e5,\n",
    "        sorting_factor=2.0,\n",
    "        pc_min=pc_min,\n",
    "        pc_max=pc_max,\n",
    "        pc_lm=pc_lm,\n",
    "        pc_hm=pc_hm,\n",
    "        swc=rel_perm_ww.swc,\n",
    "        sor=rel_perm_ww.sor,\n",
    "        extrap_factor=200.0,\n",
    "        curve_factor_l=5.0,\n",
    "        curve_factor_h=10.0)\n",
    "    cf2d_imb = cf.CoreImbibition(rel_perm_ww, pc_ww, core_plug, \n",
    "                             fluids, IC, BC, numerical_params, Nx=20, Nr = 5)\n",
    "    t_num, R_num = cf2d_imb.simulate()\n",
    "    R_calc = interp1d(t_num, R_num, fill_value='extrapolate')(t)\n",
    "    # dp_calc = interp1d(t_num, dp_num, fill_value='extrapolate')(t)\n",
    "    return R_calc\n",
    "\n",
    "model = Model(my_model)\n",
    "\n",
    "params = Parameters()\n",
    "params.add('sw_pc0', value=0.6, min=0.3, max=0.6)\n",
    "params.add('pc_lm', value=-1e4, min=-5e4, max=-5e3, vary=True)\n",
    "params.add('pc_hm', value=2e4, min=5e3, max=7e4)\n",
    "params.add('pc_min', value=-1e5, min=-1e6, max=-6e4, vary=False)\n",
    "params.add('pc_max', value=1e5, min=8e4, max=9e5, vary=False)\n",
    "\n",
    "W_R = np.ones_like(t_imb)\n",
    "# W_R[-2:] = 5.0\n",
    "result = model.fit(RF_imb, params, t=t_imb, verbose=2, \n",
    "                   weights=W_R, method='leastsq')\n",
    "# result2 = model2.fit(R_data, params, t=t_data, verbose=True, \n",
    "#                      weights=W_R, method='nelder')\n",
    "# out = minimize(residual, params, args=(t_data, R_data))"
   ]
  },
  {
   "cell_type": "code",
   "execution_count": null,
   "metadata": {},
   "outputs": [
    {
     "name": "stdout",
     "output_type": "stream",
     "text": [
      "[[Model]]\n",
      "    Model(my_model)\n",
      "[[Fit Statistics]]\n",
      "    # fitting method   = leastsq\n",
      "    # function evals   = 21\n",
      "    # data points      = 47\n",
      "    # variables        = 3\n",
      "    chi-square         = 1.51415709\n",
      "    reduced chi-square = 0.03441266\n",
      "    Akaike info crit   = -155.458569\n",
      "    Bayesian info crit = -149.908126\n",
      "    R-squared          = -0.54694912\n",
      "[[Variables]]\n",
      "    sw_pc0:  0.59999999 +/- 8.8242e-08 (0.00%) (init = 0.6)\n",
      "    pc_lm:  -9999.01769 +/- 9.99241321 (0.10%) (init = -10000)\n",
      "    pc_hm:   19976.3361 +/- 13.0477066 (0.07%) (init = 20000)\n",
      "    pc_min: -100000 (fixed)\n",
      "    pc_max:  100000 (fixed)\n",
      "[[Correlations]] (unreported correlations are < 0.100)\n",
      "    C(pc_lm, pc_hm)  = -0.8939\n",
      "    C(sw_pc0, pc_lm) = -0.1756\n",
      "Optimized Parameters:\n",
      "Parameters([('sw_pc0', <Parameter 'sw_pc0', value=0.599999988004289 +/- 8.82e-08, bounds=[0.3:0.6]>), ('pc_lm', <Parameter 'pc_lm', value=-9999.01768639755 +/- 9.99, bounds=[-50000.0:-5000.0]>), ('pc_hm', <Parameter 'pc_hm', value=19976.33607894976 +/- 13, bounds=[5000.0:70000.0]>), ('pc_min', <Parameter 'pc_min', value=-100000.0 (fixed), bounds=[-1000000.0:-60000.0]>), ('pc_max', <Parameter 'pc_max', value=100000.0 (fixed), bounds=[80000.0:900000.0]>)])\n"
     ]
    }
   ],
   "source": [
    "print(result.fit_report())\n",
    "print(\"Optimized Parameters:\")\n",
    "print(result.params)"
   ]
  },
  {
   "cell_type": "code",
   "execution_count": null,
   "metadata": {},
   "outputs": [],
   "source": [
    "R_fit= result.eval()\n"
   ]
  },
  {
   "cell_type": "code",
   "execution_count": null,
   "metadata": {},
   "outputs": [
    {
     "data": {
      "text/plain": [
       "[<matplotlib.lines.Line2D at 0x2d4d7c05150>]"
      ]
     },
     "execution_count": 33,
     "metadata": {},
     "output_type": "execute_result"
    },
    {
     "data": {
      "image/png": "[encoded data removed]",
      "text/plain": [
       "<Figure size 640x480 with 1 Axes>"
      ]
     },
     "metadata": {},
     "output_type": "display_data"
    }
   ],
   "source": [
    "plt.semilogx(t_imb, RF_imb, 'o')\n",
    "plt.semilogx(t_imb, R_fit, '-')"
   ]
  },
  {
   "cell_type": "code",
   "execution_count": 113,
   "metadata": {},
   "outputs": [
    {
     "data": {
      "text/plain": [
       "[<matplotlib.lines.Line2D at 0x2d4e2c73910>]"
      ]
     },
     "execution_count": 113,
     "metadata": {},
     "output_type": "execute_result"
    },
    {
     "data": {
      "image/png": "[encoded data removed]",
      "text/plain": [
       "<Figure size 640x480 with 1 Axes>"
      ]
     },
     "metadata": {},
     "output_type": "display_data"
    }
   ],
   "source": [
    "# R_calc = my_model(t_imb, 0.55, -1e4, 2e4, -1e5, 5e5)\n",
    "rel_perm_ww.krw0 = 0.1763082\n",
    "rel_perm_ww.no = 2.0 #2.68964890\n",
    "rel_perm_ww.nw = 2.0 # 1.93153404\n",
    "rel_perm_ww.sor = 0.37729816\n",
    "rel_perm_ww.swc = 0.1971\n",
    "rel_perm_ww.kro0 = 0.83903614\n",
    "\n",
    "pc_ww = cf.CapillaryPressurePiecewise(\n",
    "        sw_pc0=0.4,\n",
    "        pce=1e5,\n",
    "        sorting_factor=2.0,\n",
    "        pc_min=-1e5,\n",
    "        pc_max=5e5,\n",
    "        pc_lm=-1e4,\n",
    "        pc_hm=2e4,\n",
    "        swc=rel_perm_ww.swc,\n",
    "        sor=rel_perm_ww.sor,\n",
    "        extrap_factor=200.0,\n",
    "        curve_factor_l=5.0,\n",
    "        curve_factor_h=10.0)\n",
    "# cf2d_imb.pc = pc_ww\n",
    "cf2d_imb = cf.CoreImbibition(rel_perm_ww, pc_ww, core_plug, \n",
    "                             fluids, IC, BC, numerical_params, Nx=15, Nr = 5)\n",
    "t_calc, R_calc = cf2d_imb.simulate()\n",
    "plt.semilogx(t_imb, RF_imb, 'o')\n",
    "plt.semilogx(t_calc, R_calc, '-')"
   ]
  },
  {
   "cell_type": "code",
   "execution_count": 106,
   "metadata": {},
   "outputs": [
    {
     "data": {
      "text/plain": [
       "[<matplotlib.lines.Line2D at 0x2d4e173b9d0>]"
      ]
     },
     "execution_count": 106,
     "metadata": {},
     "output_type": "execute_result"
    },
    {
     "data": {
      "image/png": "[encoded data removed]",
      "text/plain": [
       "<Figure size 640x480 with 1 Axes>"
      ]
     },
     "metadata": {},
     "output_type": "display_data"
    }
   ],
   "source": [
    "plt.semilogx(t_imb, interp1d(t_calc, R_calc)(t_imb), '^')\n",
    "plt.semilogx(t_imb, RF_imb, 'o')\n",
    "plt.semilogx(t_calc, R_calc, '-')"
   ]
  }
 ],
 "metadata": {
  "kernelspec": {
   "display_name": "myfvm",
   "language": "python",
   "name": "python3"
  },
  "language_info": {
   "codemirror_mode": {
    "name": "ipython",
    "version": 3
   },
   "file_extension": ".py",
   "mimetype": "text/x-python",
   "name": "python",
   "nbconvert_exporter": "python",
   "pygments_lexer": "ipython3",
   "version": "3.11.5"
  },
  "orig_nbformat": 4
 },
 "nbformat": 4,
 "nbformat_minor": 2
}
