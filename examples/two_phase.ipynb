{
 "cells": [
  {
   "cell_type": "code",
   "execution_count": 152,
   "metadata": {},
   "outputs": [
    {
     "data": {
      "text/plain": [
       "<module 'pymadreq.IO' from 'c:\\\\Users\\\\aaeft\\\\Documents\\\\GitHub\\\\PyMADREQ\\\\examples\\\\..\\\\pymadreq\\\\IO.py'>"
      ]
     },
     "execution_count": 152,
     "metadata": {},
     "output_type": "execute_result"
    }
   ],
   "source": [
    "from importlib import reload\n",
    "from pyfvtool import *\n",
    "import matplotlib.pyplot as plt\n",
    "import numpy as np\n",
    "from scipy.optimize import root\n",
    "from tqdm import tqdm\n",
    "\n",
    "import sys\n",
    "sys.path.append('..')\n",
    "from pymadreq import *\n",
    "import pymadreq.coreflood as cf\n",
    "import pymadreq.IO as IO\n",
    "\n",
    "reload(cf)\n",
    "reload(IO)"
   ]
  },
  {
   "cell_type": "markdown",
   "metadata": {},
   "source": [
    "## Reading input file and defining the domain"
   ]
  },
  {
   "cell_type": "code",
   "execution_count": 153,
   "metadata": {},
   "outputs": [],
   "source": [
    "# read the input file\n",
    "data = IO.read_json(\"../examples/sample.json\")\n",
    "rel_perm_ww, rel_perm_ow, pc_ww, pc_ow = IO.read_transport_functions(data)\n",
    "core_plug = IO.read_core_properties(data)\n",
    "fluids = IO.read_fluids(data)\n",
    "IC = IO.read_initial_conditions(data) # initial conditions\n",
    "BC = IO.createFloodingCondition(data[\"BC\"]) # boundary conditions\n",
    "numerical_params = IO.read_numerical_settings(data)\n",
    "m = IO.read_flooding_domain(data)"
   ]
  },
  {
   "cell_type": "markdown",
   "metadata": {},
   "source": [
    "## Transport properties"
   ]
  },
  {
   "cell_type": "code",
   "execution_count": 154,
   "metadata": {},
   "outputs": [],
   "source": [
    "# define the physical parametrs\n",
    "SF0 = 0.5 # closer to 1 is water-wet\n",
    "SF_cell = createCellVariable(m, SF0)\n",
    "SF=createFaceVariable(m, SF0) # 1 is water wet, 0 is oil wet\n",
    "# define functions for face variables saturation and wettability indicator\n",
    "krw = lambda sw, sf:(rel_perm_ww.krw(sw)*sf+rel_perm_ow.krw(sw)*(1-sf))\n",
    "kro = lambda sw, sf:(rel_perm_ww.kro(sw)*sf+rel_perm_ow.kro(sw)*(1-sf))\n",
    "pc_imb = lambda sw, sf:(pc_ww.pc_imb(sw)*sf+pc_ow.pc_imb(sw)*(1-sf))\n",
    "dpc_imb = lambda sw, sf:(pc_ww.dpc_dsw_imb(sw)*sf+pc_ow.dpc_dsw_imb(sw)*(1-sf))\n",
    "dkrodsw = lambda sw, sf:(rel_perm_ww.dkrodsw(sw)*sf+rel_perm_ow.dkrodsw(sw)*(1-sf))\n",
    "dkrwdsw = lambda sw, sf:(rel_perm_ww.dkrwdsw(sw)*sf+rel_perm_ow.dkrwdsw(sw)*(1-sf))\n",
    "sol = root(lambda sw:pc_imb(sw, SF0), SF0*pc_ww.sw_pc0+(1-SF0)*pc_ow.sw_pc0) # saturation at which pc=0\n",
    "sw_pc0 = sol.x # saturation at which pc=0"
   ]
  },
  {
   "cell_type": "markdown",
   "metadata": {},
   "source": [
    "## Core and experimental conditions"
   ]
  },
  {
   "cell_type": "code",
   "execution_count": 155,
   "metadata": {},
   "outputs": [],
   "source": [
    "# core\n",
    "k= createCellVariable(m, core_plug.permeability)\n",
    "phi= createCellVariable(m, core_plug.porosity)\n",
    "lw = geometricMean(k/fluids.water_viscosity)\n",
    "lo = geometricMean(k/fluids.oil_viscosity)\n",
    "# A_core = 1\n",
    "# Initial and boundary conditions\n",
    "p0 = IC.p # [Pa] pressure\n",
    "p_back = BC.production_pressure # [Pa] pressure\n",
    "u_inj = BC.injection_rate_ml_min/(core_plug.cross_sectional_area*1e4) # [cm/min]\n",
    "u_inj = u_inj/(60*100) # [m/s]\n",
    "sw0 = IC.sw # initial saturation"
   ]
  },
  {
   "cell_type": "markdown",
   "metadata": {},
   "source": [
    "## Boundary confitions"
   ]
  },
  {
   "cell_type": "code",
   "execution_count": 156,
   "metadata": {},
   "outputs": [],
   "source": [
    "BCp = createBC(m) # Neumann BC for pressure\n",
    "BCs = createBC(m) # Neumann BC for saturation\n",
    "BCp.right.a[:]=0.0 \n",
    "BCp.right.b[:]=1.0 \n",
    "BCp.right.c[:]=p_back\n",
    "BCp.left.a[:]=1.0 \n",
    "BCp.left.b[:]=0.0 \n",
    "BCp.left.c[:]=-u_inj/lw.xvalue[0]\n",
    "# BCs.right.a[:]=0 \n",
    "# BCs.right.b[:]=1 \n",
    "# BCs.right.c[:]=sw_pc0\n",
    "BCs.left.a[:]=0 \n",
    "BCs.left.b[:]=1 \n",
    "BCs.left.c[:]=1.0"
   ]
  },
  {
   "cell_type": "markdown",
   "metadata": {},
   "source": [
    "## Initial conditions"
   ]
  },
  {
   "cell_type": "code",
   "execution_count": 157,
   "metadata": {},
   "outputs": [],
   "source": [
    "# initial conditions\n",
    "sw_old = createCellVariable(m, sw0, BCs)\n",
    "p_old = createCellVariable(m, p0, BCp)\n",
    "p = p_old\n",
    "sw = sw_old\n",
    "uw = -gradientTerm(p_old)  # an estimation of the water velocity\n",
    "oil_init = domainInt(1 - sw_old)\n",
    "rec_fact = np.array([0])\n",
    "t_day = np.array([0])\n",
    "t = 0.0"
   ]
  },
  {
   "cell_type": "markdown",
   "metadata": {},
   "source": [
    "## Numerical settings"
   ]
  },
  {
   "cell_type": "code",
   "execution_count": 158,
   "metadata": {},
   "outputs": [],
   "source": [
    "# define the time step and solver properties\n",
    "dt=1\n",
    "dt0=dt\n",
    "t_end = numerical_params.simulation_time # [s] final simulation time\n",
    "eps_p = numerical_params.eps_p # pressure accuracy\n",
    "eps_sw = numerical_params.eps_sw # saturation accuracy\n",
    "dsw_alwd= numerical_params.dsw_allowed\n",
    "dp_alwd= numerical_params.dp_allowed # Pa\n",
    "dt = numerical_params.time_step # [s] initial time step"
   ]
  },
  {
   "cell_type": "markdown",
   "metadata": {},
   "source": [
    "## Core flooding with end effect\n",
    "Here, we will simulate a core flooding experiment with end effect. The injection rate is bumped 5 times."
   ]
  },
  {
   "cell_type": "code",
   "execution_count": 159,
   "metadata": {},
   "outputs": [
    {
     "name": "stderr",
     "output_type": "stream",
     "text": [
      "120123.04143219255it [00:13, 8629.11it/s]                               \n",
      " 98%|█████████▊| 118031.99853236374/120000.0 [00:03<00:00, 28647.21it/s]"
     ]
    }
   ],
   "source": [
    "t_end1 = t_end*0.8\n",
    "t_end2 = 1.2*t_end\n",
    "pbar = tqdm(total=t_end2)\n",
    "while (t<t_end2):\n",
    "# for i=1:5\n",
    "    error_p = 1e5\n",
    "    error_sw = 1e5\n",
    "    # Implicit loop\n",
    "#     while ((error_p>eps_p) || (error_sw>eps_sw))\n",
    "    while(1): # loop condition is checked inside\n",
    "        pgrad = gradientTerm(p)\n",
    "        sw_face = upwindMean(sw, -pgrad) # average value of water saturation\n",
    "        sw_grad=gradientTerm(sw)\n",
    "        sw_ave=arithmeticMean(sw)\n",
    "        BC2GhostCells(sw)\n",
    "        pc_cell = funceval(pc_imb, sw, SF_cell)\n",
    "        pcgrad = gradientTermFixedBC(pc_cell)\n",
    "        labdao = lo*faceeval(kro, sw_face, SF)\n",
    "        labdaw = lw*faceeval(krw, sw_face, SF)\n",
    "        labda = labdao+labdaw\n",
    "        Mdiffp1 = diffusionTerm(-labda)\n",
    "        RHSpc1=divergenceTerm(labdao*pcgrad)\n",
    "        if t>t_end1:\n",
    "            BCp.left.a[:]=1.0 \n",
    "            BCp.left.b[:]=0.0 \n",
    "            BCp.left.c[:]=-5*u_inj/lw.xvalue[0]\n",
    "        [Mbcp, RHSbcp] = boundaryConditionTerm(BCp)\n",
    "        RHS1 = RHSpc1+RHSbcp # with capillary\n",
    "        p_new=solvePDE(m, Mdiffp1+Mbcp, RHS1)\n",
    "        # solve for Sw\n",
    "        pgrad = gradientTerm(p_new)\n",
    "        uw=-labdaw*pgrad\n",
    "        [Mbcsw, RHSbcsw] = boundaryConditionTerm(BCs)\n",
    "        RHS_sw=-divergenceTerm(uw)\n",
    "        sw_new=solveExplicitPDE(sw_old, dt, RHS_sw/phi.value.ravel(), BCs)\n",
    "        error_p = np.max(np.abs((p_new.value[:]-p.value[:])/p_new.value[:]))\n",
    "        error_sw = np.max(np.abs(sw_new.internalCells()-sw.internalCells()))\n",
    "        # calculate new time step\n",
    "        dt_new=min(10*dt, dt*dsw_alwd/error_sw)\n",
    "        # assign new values of p and sw\n",
    "        if error_sw>dsw_alwd:\n",
    "            dt=dt*(dsw_alwd/error_sw)\n",
    "        else:\n",
    "            t=t+dt\n",
    "            p.update_value(p_new)\n",
    "            sw.update_value(sw_new)\n",
    "            p_old.update_value(p)\n",
    "            sw_old.update_value(sw)\n",
    "            dt = min(dt*(dsw_alwd/error_sw), 10*dt)\n",
    "            break\n",
    "    \n",
    "    # Calculate the new concentration profile after advection-diffusion\n",
    "    \n",
    "    # calculate the new concentrations after chemical reactions\n",
    "    \n",
    "    # update rel-perm and pc curves\n",
    "\n",
    "    # new boundary\n",
    "    if sw_ave.xvalue[-1]>=sw_pc0:\n",
    "        BCs.right.a[:] = 0. \n",
    "        BCs.right.b[:] = 1. \n",
    "        BCs.right.c[:]=sw_pc0\n",
    "    # calculate recovery factor\n",
    "    pbar.update(t-pbar.n)\n",
    "    rec_fact= np.append(rec_fact, (oil_init-domainInt(1-sw))/oil_init)\n",
    "    t_day = np.append(t_day, t)\n"
   ]
  },
  {
   "cell_type": "code",
   "execution_count": 160,
   "metadata": {},
   "outputs": [
    {
     "data": {
      "text/plain": [
       "80000.0"
      ]
     },
     "execution_count": 160,
     "metadata": {},
     "output_type": "execute_result"
    }
   ],
   "source": [
    "t_end1"
   ]
  },
  {
   "cell_type": "code",
   "execution_count": 161,
   "metadata": {},
   "outputs": [
    {
     "data": {
      "text/plain": [
       "[<matplotlib.lines.Line2D at 0x1f9b7cc87d0>]"
      ]
     },
     "execution_count": 161,
     "metadata": {},
     "output_type": "execute_result"
    },
    {
     "data": {
      "image/png": "[encoded data removed]",
      "text/plain": [
       "<Figure size 640x480 with 1 Axes>"
      ]
     },
     "metadata": {},
     "output_type": "display_data"
    }
   ],
   "source": [
    "plt.plot(t_day, rec_fact, label='Recovery factor')"
   ]
  },
  {
   "cell_type": "markdown",
   "metadata": {},
   "source": [
    "## Two phase flow without Pc"
   ]
  },
  {
   "cell_type": "code",
   "execution_count": null,
   "metadata": {},
   "outputs": [],
   "source": [
    "t_end1 = t_end*0.8\n",
    "t_end2 = 1.2*t_end\n",
    "pbar = tqdm(total=t_end2)\n",
    "while (t<t_end2):\n",
    "# for i=1:5\n",
    "    error_p = 1e5\n",
    "    error_sw = 1e5\n",
    "    # Implicit loop\n",
    "#     while ((error_p>eps_p) || (error_sw>eps_sw))\n",
    "    while(1): # loop condition is checked inside\n",
    "        pgrad = gradientTerm(p)\n",
    "        sw_face = upwindMean(sw, -pgrad) # average value of water saturation\n",
    "        sw_grad=gradientTerm(sw)\n",
    "        sw_ave=arithmeticMean(sw)\n",
    "        BC2GhostCells(sw)\n",
    "        pc_cell = funceval(pc_imb, sw, SF_cell)\n",
    "        pcgrad = gradientTermFixedBC(pc_cell)\n",
    "        labdao = lo*faceeval(kro, sw_face, SF)\n",
    "        labdaw = lw*faceeval(krw, sw_face, SF)\n",
    "        labda = labdao+labdaw\n",
    "        Mdiffp1 = diffusionTerm(-labda)\n",
    "        RHSpc1=divergenceTerm(labdao*pcgrad)\n",
    "        if t>t_end1:\n",
    "            BCp.left.a[:]=1.0 \n",
    "            BCp.left.b[:]=0.0 \n",
    "            BCp.left.c[:]=-5*u_inj/lw.xvalue[0]\n",
    "        [Mbcp, RHSbcp] = boundaryConditionTerm(BCp)\n",
    "        RHS1 = RHSpc1+RHSbcp # with capillary\n",
    "        p_new=solvePDE(m, Mdiffp1+Mbcp, RHS1)\n",
    "        # solve for Sw\n",
    "        pgrad = gradientTerm(p_new)\n",
    "        uw=-labdaw*pgrad\n",
    "        [Mbcsw, RHSbcsw] = boundaryConditionTerm(BCs)\n",
    "        RHS_sw=-divergenceTerm(uw)\n",
    "        sw_new=solveExplicitPDE(sw_old, dt, RHS_sw/phi.value.ravel(), BCs)\n",
    "        error_p = np.max(np.abs((p_new.value[:]-p.value[:])/p_new.value[:]))\n",
    "        error_sw = np.max(np.abs(sw_new.internalCells()-sw.internalCells()))\n",
    "        # calculate new time step\n",
    "        dt_new=min(10*dt, dt*dsw_alwd/error_sw)\n",
    "        # assign new values of p and sw\n",
    "        if error_sw>dsw_alwd:\n",
    "            dt=dt*(dsw_alwd/error_sw)\n",
    "        else:\n",
    "            t=t+dt\n",
    "            p.update_value(p_new)\n",
    "            sw.update_value(sw_new)\n",
    "            p_old.update_value(p)\n",
    "            sw_old.update_value(sw)\n",
    "            dt = min(dt*(dsw_alwd/error_sw), 10*dt)\n",
    "            break\n",
    "    \n",
    "    # Calculate the new concentration profile after advection-diffusion\n",
    "    \n",
    "    # calculate the new concentrations after chemical reactions\n",
    "    \n",
    "    # update rel-perm and pc curves\n",
    "\n",
    "    # new boundary\n",
    "    if sw_ave.xvalue[-1]>=sw_pc0:\n",
    "        BCs.right.a[:] = 0. \n",
    "        BCs.right.b[:] = 1. \n",
    "        BCs.right.c[:]=sw_pc0\n",
    "    # calculate recovery factor\n",
    "    pbar.update(t-pbar.n)\n",
    "    rec_fact= np.append(rec_fact, (oil_init-domainInt(1-sw))/oil_init)\n",
    "    t_day = np.append(t_day, t)"
   ]
  }
 ],
 "metadata": {
  "kernelspec": {
   "display_name": "myfvm",
   "language": "python",
   "name": "python3"
  },
  "language_info": {
   "codemirror_mode": {
    "name": "ipython",
    "version": 3
   },
   "file_extension": ".py",
   "mimetype": "text/x-python",
   "name": "python",
   "nbconvert_exporter": "python",
   "pygments_lexer": "ipython3",
   "version": "3.11.3"
  },
  "orig_nbformat": 4
 },
 "nbformat": 4,
 "nbformat_minor": 2
}
